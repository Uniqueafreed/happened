{
  "nbformat": 4,
  "nbformat_minor": 0,
  "metadata": {
    "colab": {
      "provenance": [],
      "authorship_tag": "ABX9TyM/eIck0HMcnBEjOxy8k2OR",
      "include_colab_link": true
    },
    "kernelspec": {
      "name": "python3",
      "display_name": "Python 3"
    },
    "language_info": {
      "name": "python"
    }
  },
  "cells": [
    {
      "cell_type": "markdown",
      "metadata": {
        "id": "view-in-github",
        "colab_type": "text"
      },
      "source": [
        "<a href=\"https://colab.research.google.com/github/himanshu0289/pythonCodeSampler/blob/master/custom_Exception.ipynb\" target=\"_parent\"><img src=\"https://colab.research.google.com/assets/colab-badge.svg\" alt=\"Open In Colab\"/></a>"
      ]
    },
    {
      "cell_type": "code",
      "execution_count": 1,
      "metadata": {
        "colab": {
          "base_uri": "https://localhost:8080/"
        },
        "id": "9FakwgruaCXa",
        "outputId": "5bdaf338-6459-4e36-e885-42effde719e4"
      },
      "outputs": [
        {
          "name": "stdout",
          "output_type": "stream",
          "text": [
            "enter your age -345\n"
          ]
        }
      ],
      "source": [
        "age = int(input(\"enter your age \"))"
      ]
    },
    {
      "cell_type": "code",
      "source": [
        "class validateage(Exception) :\n",
        "\n",
        "    def __init__(self, msg) :\n",
        "        self.msg = msg"
      ],
      "metadata": {
        "id": "J6--WbgUaWke"
      },
      "execution_count": 11,
      "outputs": []
    },
    {
      "cell_type": "code",
      "source": [
        "def eligiable(age) :\n",
        "    if age < 0 :\n",
        "      raise validateage(\"enter age is negative\")\n",
        "    elif age > 220 :\n",
        "      raise validateage(\"enter age is very very high \")\n",
        "    else :\n",
        "       print(\"age is valid \" )"
      ],
      "metadata": {
        "id": "C2ulDKQKa1Lu"
      },
      "execution_count": 13,
      "outputs": []
    },
    {
      "cell_type": "code",
      "source": [
        "try :\n",
        "     age = int(input(\"enter your age\"))\n",
        "     eligiable(age)\n",
        "except validateage as e :\n",
        "     print(e)"
      ],
      "metadata": {
        "colab": {
          "base_uri": "https://localhost:8080/"
        },
        "id": "wTr_XVSabVTB",
        "outputId": "103aa24b-c4ff-4c22-e1c6-7363e8e95ce7"
      },
      "execution_count": 16,
      "outputs": [
        {
          "output_type": "stream",
          "name": "stdout",
          "text": [
            "enter your age222\n",
            "enter age is very very high \n"
          ]
        }
      ]
    },
    {
      "cell_type": "code",
      "source": [],
      "metadata": {
        "id": "BYKY5WSUby8-"
      },
      "execution_count": null,
      "outputs": []
    }
  ]
}