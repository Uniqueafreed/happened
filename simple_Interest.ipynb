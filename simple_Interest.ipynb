{
  "nbformat": 4,
  "nbformat_minor": 0,
  "metadata": {
    "colab": {
      "provenance": [],
      "authorship_tag": "ABX9TyPm2xhflnPNKyfalkiQfYFw",
      "include_colab_link": true
    },
    "kernelspec": {
      "name": "python3",
      "display_name": "Python 3"
    },
    "language_info": {
      "name": "python"
    }
  },
  "cells": [
    {
      "cell_type": "markdown",
      "metadata": {
        "id": "view-in-github",
        "colab_type": "text"
      },
      "source": [
        "<a href=\"https://colab.research.google.com/github/himanshu0289/pythonCodeSampler/blob/master/simple_Interest.ipynb\" target=\"_parent\"><img src=\"https://colab.research.google.com/assets/colab-badge.svg\" alt=\"Open In Colab\"/></a>"
      ]
    },
    {
      "cell_type": "code",
      "execution_count": 1,
      "metadata": {
        "colab": {
          "base_uri": "https://localhost:8080/"
        },
        "id": "DZml1c4hvO6X",
        "outputId": "2078779c-72f9-40c8-a5cd-b7b92a05fc94"
      },
      "outputs": [
        {
          "output_type": "stream",
          "name": "stdout",
          "text": [
            "The principal is 8\n",
            "The time period is 6\n",
            "The rate of interest is 8\n",
            "The Simple Interest is 3.84\n"
          ]
        },
        {
          "output_type": "execute_result",
          "data": {
            "text/plain": [
              "3.84"
            ]
          },
          "metadata": {},
          "execution_count": 1
        }
      ],
      "source": [
        "def simple_interest(p,t,r):\n",
        "    print('The principal is', p)\n",
        "    print('The time period is', t)\n",
        "    print('The rate of interest is',r)\n",
        "\n",
        "    si = (p * t * r)/100\n",
        "\n",
        "    print('The Simple Interest is', si)\n",
        "    return si\n",
        ""
      ]
    },
    {
      "cell_type": "code",
      "source": [
        "simple_interest(8, 6, 8)"
      ],
      "metadata": {
        "colab": {
          "base_uri": "https://localhost:8080/"
        },
        "id": "lsdE4fvlw3yU",
        "outputId": "1a5ee104-6414-4b8a-e915-ff5008cee705"
      },
      "execution_count": 2,
      "outputs": [
        {
          "output_type": "stream",
          "name": "stdout",
          "text": [
            "The principal is 8\n",
            "The time period is 6\n",
            "The rate of interest is 8\n",
            "The Simple Interest is 3.84\n"
          ]
        },
        {
          "output_type": "execute_result",
          "data": {
            "text/plain": [
              "3.84"
            ]
          },
          "metadata": {},
          "execution_count": 2
        }
      ]
    },
    {
      "cell_type": "code",
      "source": [],
      "metadata": {
        "id": "Svwzo7hBw8nj"
      },
      "execution_count": null,
      "outputs": []
    }
  ]
}