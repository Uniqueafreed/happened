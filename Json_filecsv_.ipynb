{
  "nbformat": 4,
  "nbformat_minor": 0,
  "metadata": {
    "colab": {
      "provenance": [],
      "authorship_tag": "ABX9TyOHao8i37XEhs36d0+WQ2g2",
      "include_colab_link": true
    },
    "kernelspec": {
      "name": "python3",
      "display_name": "Python 3"
    },
    "language_info": {
      "name": "python"
    }
  },
  "cells": [
    {
      "cell_type": "markdown",
      "metadata": {
        "id": "view-in-github",
        "colab_type": "text"
      },
      "source": [
        "<a href=\"https://colab.research.google.com/github/himanshu0289/pythonCodeSampler/blob/master/Json_filecsv_.ipynb\" target=\"_parent\"><img src=\"https://colab.research.google.com/assets/colab-badge.svg\" alt=\"Open In Colab\"/></a>"
      ]
    },
    {
      "cell_type": "code",
      "execution_count": 1,
      "metadata": {
        "id": "iBZHL5NArc7E"
      },
      "outputs": [],
      "source": [
        "data = {\n",
        "    \"name\" : \"San\",\n",
        "    \"mail_id\" : \"san@gmail.com\",\n",
        "    \"subject\" : [\"Data Science\",\"big data\",\"Data Analytics\"]\n",
        "}"
      ]
    },
    {
      "cell_type": "code",
      "source": [
        "import json"
      ],
      "metadata": {
        "id": "JT6MKmZbr_q7"
      },
      "execution_count": 2,
      "outputs": []
    },
    {
      "cell_type": "code",
      "source": [
        "with open(\"data.json\",\"w\") as f:\n",
        "      json.dump(data,f)"
      ],
      "metadata": {
        "id": "Ma0_PDHAsC-7"
      },
      "execution_count": 10,
      "outputs": []
    },
    {
      "cell_type": "markdown",
      "source": [
        "### ***for reading***"
      ],
      "metadata": {
        "id": "FHGhaOQRtoJT"
      }
    },
    {
      "cell_type": "code",
      "source": [
        "with open(\"data.json\",\"r\") as f:\n",
        "   data1 = json.load(f)"
      ],
      "metadata": {
        "id": "GMx_JssDsP1t"
      },
      "execution_count": 11,
      "outputs": []
    },
    {
      "cell_type": "code",
      "source": [
        "data1"
      ],
      "metadata": {
        "colab": {
          "base_uri": "https://localhost:8080/"
        },
        "id": "NZzlaimathIt",
        "outputId": "b3d124fd-018d-4906-f3d6-705a23a63c07"
      },
      "execution_count": 12,
      "outputs": [
        {
          "output_type": "execute_result",
          "data": {
            "text/plain": [
              "{'name': 'San',\n",
              " 'mail_id': 'san@gmail.com',\n",
              " 'subject': ['Data Science', 'big data', 'Data Analytics']}"
            ]
          },
          "metadata": {},
          "execution_count": 12
        }
      ]
    },
    {
      "cell_type": "code",
      "source": [
        "data1['subject'][1]"
      ],
      "metadata": {
        "colab": {
          "base_uri": "https://localhost:8080/",
          "height": 35
        },
        "id": "a7HGYvRYtlx2",
        "outputId": "a3d1679e-c2f8-4563-c369-c45e8c39c308"
      },
      "execution_count": 15,
      "outputs": [
        {
          "output_type": "execute_result",
          "data": {
            "text/plain": [
              "'big data'"
            ],
            "application/vnd.google.colaboratory.intrinsic+json": {
              "type": "string"
            }
          },
          "metadata": {},
          "execution_count": 15
        }
      ]
    },
    {
      "cell_type": "code",
      "source": [],
      "metadata": {
        "id": "8xj60qBFtzW8"
      },
      "execution_count": null,
      "outputs": []
    },
    {
      "cell_type": "markdown",
      "source": [
        "### **Comma separeated file how to read and write...**"
      ],
      "metadata": {
        "id": "PTfVh261t8a3"
      }
    },
    {
      "cell_type": "code",
      "source": [
        "import csv"
      ],
      "metadata": {
        "id": "FN8J0cM2uBHf"
      },
      "execution_count": 16,
      "outputs": []
    },
    {
      "cell_type": "code",
      "source": [
        "data = [\n",
        "    [\"name\",\"mail_id\",\"phone_num\"],\n",
        "    [\"san\",\"sn@gmail.com\",\"89753456\"],\n",
        "    [\"hima\",\"hima@gmail.com\",\"6544335\"]\n",
        "]"
      ],
      "metadata": {
        "id": "c3r78-CXuDot"
      },
      "execution_count": 17,
      "outputs": []
    },
    {
      "cell_type": "code",
      "source": [
        "with open(\"data.csv\",\"w\") as f :\n",
        "  writer = csv.writer(f)\n",
        "\n",
        "  for i in data:\n",
        "    writer.writerow(i)"
      ],
      "metadata": {
        "id": "FiQ7DN_pudsC"
      },
      "execution_count": 19,
      "outputs": []
    },
    {
      "cell_type": "code",
      "source": [],
      "metadata": {
        "id": "8eTMLY5juqJr"
      },
      "execution_count": null,
      "outputs": []
    },
    {
      "cell_type": "markdown",
      "source": [
        "# **for reading**"
      ],
      "metadata": {
        "id": "2E1BKi-1vMtG"
      }
    },
    {
      "cell_type": "code",
      "source": [
        "with open(\"data.csv\",\"r\") as f :\n",
        "  read_data = csv.reader(f)\n",
        "\n",
        "  for i in read_data :\n",
        "    print(i)"
      ],
      "metadata": {
        "colab": {
          "base_uri": "https://localhost:8080/"
        },
        "id": "AvV7XVvwvQIQ",
        "outputId": "70ee1d34-cfa4-48d2-92b6-3b602fd2d8bc"
      },
      "execution_count": 21,
      "outputs": [
        {
          "output_type": "stream",
          "name": "stdout",
          "text": [
            "['name', 'mail_id', 'phone_num']\n",
            "['san', 'sn@gmail.com', '89753456']\n",
            "['hima', 'hima@gmail.com', '6544335']\n"
          ]
        }
      ]
    },
    {
      "cell_type": "code",
      "source": [],
      "metadata": {
        "id": "iHjzHS8Nvewk"
      },
      "execution_count": null,
      "outputs": []
    },
    {
      "cell_type": "markdown",
      "source": [
        "### ***how to create a binary file***"
      ],
      "metadata": {
        "id": "QFyNzWG5vn37"
      }
    },
    {
      "cell_type": "code",
      "source": [
        "with open(\"test.bin\",\"wb\") as f :\n",
        "  f.write(b\"\\x01\\x02\\x03\")"
      ],
      "metadata": {
        "id": "MWG-YBiPvsWL"
      },
      "execution_count": 23,
      "outputs": []
    },
    {
      "cell_type": "code",
      "source": [
        "with open(\"test.bin\",\"rb\") as f :\n",
        "  print(f.read())"
      ],
      "metadata": {
        "colab": {
          "base_uri": "https://localhost:8080/"
        },
        "id": "zQdjK3OVv4lk",
        "outputId": "69be3daa-dc3b-4a20-b790-5c14be990bc3"
      },
      "execution_count": 24,
      "outputs": [
        {
          "output_type": "stream",
          "name": "stdout",
          "text": [
            "b'\\x01\\x02\\x03'\n"
          ]
        }
      ]
    },
    {
      "cell_type": "code",
      "source": [],
      "metadata": {
        "id": "hpSsUtBFwL6W"
      },
      "execution_count": null,
      "outputs": []
    },
    {
      "cell_type": "markdown",
      "source": [
        "# *Buffered rad and write*"
      ],
      "metadata": {
        "id": "9zrHshpiwSRH"
      }
    },
    {
      "cell_type": "code",
      "source": [
        "import io"
      ],
      "metadata": {
        "id": "5d1WoHZbwWT5"
      },
      "execution_count": 25,
      "outputs": []
    },
    {
      "cell_type": "code",
      "source": [
        "with open(\"test1.txt\",\"wb\") as f:\n",
        "  file = io.BufferedWriter(f)\n",
        "  file.write(b\"this is my first dir\\n\")\n",
        "  file.write(b\"this is my second dir\\n\")\n",
        "  file.flush()"
      ],
      "metadata": {
        "id": "pN8q5dj5wY7k"
      },
      "execution_count": 30,
      "outputs": []
    },
    {
      "cell_type": "code",
      "source": [
        "with open(\"test1.txt\",\"rb\") as f:\n",
        "  file = io.BufferReader(f)\n",
        "\n",
        "  print(file.read())"
      ],
      "metadata": {
        "colab": {
          "base_uri": "https://localhost:8080/",
          "height": 349
        },
        "id": "3eGl-gevwl6P",
        "outputId": "e7d9b00e-19b0-4e7a-ed84-cb750734d440"
      },
      "execution_count": 37,
      "outputs": [
        {
          "output_type": "error",
          "ename": "AttributeError",
          "evalue": "ignored",
          "traceback": [
            "\u001b[0;31m---------------------------------------------------------------------------\u001b[0m",
            "\u001b[0;31mAttributeError\u001b[0m                            Traceback (most recent call last)",
            "\u001b[0;32m<ipython-input-37-7a3f3e80fa64>\u001b[0m in \u001b[0;36m<cell line: 1>\u001b[0;34m()\u001b[0m\n\u001b[1;32m      1\u001b[0m \u001b[0;32mwith\u001b[0m \u001b[0mopen\u001b[0m\u001b[0;34m(\u001b[0m\u001b[0;34m\"test1.txt\"\u001b[0m\u001b[0;34m,\u001b[0m\u001b[0;34m\"rb\"\u001b[0m\u001b[0;34m)\u001b[0m \u001b[0;32mas\u001b[0m \u001b[0mf\u001b[0m\u001b[0;34m:\u001b[0m\u001b[0;34m\u001b[0m\u001b[0;34m\u001b[0m\u001b[0m\n\u001b[0;32m----> 2\u001b[0;31m   \u001b[0mfile\u001b[0m \u001b[0;34m=\u001b[0m \u001b[0mio\u001b[0m\u001b[0;34m.\u001b[0m\u001b[0mBufferReader\u001b[0m\u001b[0;34m(\u001b[0m\u001b[0mf\u001b[0m\u001b[0;34m)\u001b[0m\u001b[0;34m\u001b[0m\u001b[0;34m\u001b[0m\u001b[0m\n\u001b[0m\u001b[1;32m      3\u001b[0m \u001b[0;34m\u001b[0m\u001b[0m\n\u001b[1;32m      4\u001b[0m   \u001b[0mprint\u001b[0m\u001b[0;34m(\u001b[0m\u001b[0mfile\u001b[0m\u001b[0;34m.\u001b[0m\u001b[0mread\u001b[0m\u001b[0;34m(\u001b[0m\u001b[0;34m)\u001b[0m\u001b[0;34m)\u001b[0m\u001b[0;34m\u001b[0m\u001b[0;34m\u001b[0m\u001b[0m\n",
            "\u001b[0;32m/usr/lib/python3.10/io.py\u001b[0m in \u001b[0;36m__getattr__\u001b[0;34m(name)\u001b[0m\n\u001b[1;32m     71\u001b[0m         \u001b[0mOpenWrapper\u001b[0m \u001b[0;34m=\u001b[0m \u001b[0mopen\u001b[0m\u001b[0;34m\u001b[0m\u001b[0;34m\u001b[0m\u001b[0m\n\u001b[1;32m     72\u001b[0m         \u001b[0;32mreturn\u001b[0m \u001b[0mOpenWrapper\u001b[0m\u001b[0;34m\u001b[0m\u001b[0;34m\u001b[0m\u001b[0m\n\u001b[0;32m---> 73\u001b[0;31m     \u001b[0;32mraise\u001b[0m \u001b[0mAttributeError\u001b[0m\u001b[0;34m(\u001b[0m\u001b[0mname\u001b[0m\u001b[0;34m)\u001b[0m\u001b[0;34m\u001b[0m\u001b[0;34m\u001b[0m\u001b[0m\n\u001b[0m\u001b[1;32m     74\u001b[0m \u001b[0;34m\u001b[0m\u001b[0m\n\u001b[1;32m     75\u001b[0m \u001b[0;34m\u001b[0m\u001b[0m\n",
            "\u001b[0;31mAttributeError\u001b[0m: BufferReader"
          ]
        }
      ]
    },
    {
      "cell_type": "code",
      "source": [],
      "metadata": {
        "id": "c5tnM5zIwsJK"
      },
      "execution_count": null,
      "outputs": []
    }
  ]
}