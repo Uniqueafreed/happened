{
  "nbformat": 4,
  "nbformat_minor": 0,
  "metadata": {
    "colab": {
      "provenance": [],
      "authorship_tag": "ABX9TyPp5dKuSOqABXm8glYCI+sV",
      "include_colab_link": true
    },
    "kernelspec": {
      "name": "python3",
      "display_name": "Python 3"
    },
    "language_info": {
      "name": "python"
    }
  },
  "cells": [
    {
      "cell_type": "markdown",
      "metadata": {
        "id": "view-in-github",
        "colab_type": "text"
      },
      "source": [
        "<a href=\"https://colab.research.google.com/github/himanshu0289/pythonCodeSampler/blob/master/Untitled1.ipynb\" target=\"_parent\"><img src=\"https://colab.research.google.com/assets/colab-badge.svg\" alt=\"Open In Colab\"/></a>"
      ]
    },
    {
      "cell_type": "code",
      "execution_count": 2,
      "metadata": {
        "colab": {
          "base_uri": "https://localhost:8080/"
        },
        "id": "wvi7yBf_elNr",
        "outputId": "ba07a597-41a7-43ae-fbdf-27bc0320c2f1"
      },
      "outputs": [
        {
          "output_type": "stream",
          "name": "stdout",
          "text": [
            "division by zero\n"
          ]
        }
      ],
      "source": [
        "try :\n",
        "  a = 10/0\n",
        "except ZeroDivisionError  as e :\n",
        "    print(e)"
      ]
    },
    {
      "cell_type": "code",
      "source": [
        "try :\n",
        "  int(\"sudh\")\n",
        "except (ValueError , TypeError)  as e :\n",
        "  print(e)"
      ],
      "metadata": {
        "colab": {
          "base_uri": "https://localhost:8080/"
        },
        "id": "neksKjhqfEOx",
        "outputId": "459c0b81-6f16-4138-b414-593f45b5f9d3"
      },
      "execution_count": 3,
      "outputs": [
        {
          "output_type": "stream",
          "name": "stdout",
          "text": [
            "invalid literal for int() with base 10: 'sudh'\n"
          ]
        }
      ]
    },
    {
      "cell_type": "code",
      "source": [
        "try :\n",
        "  int(\"sudh\")\n",
        "except :\n",
        "  print(\"this will catch a error\")"
      ],
      "metadata": {
        "colab": {
          "base_uri": "https://localhost:8080/"
        },
        "id": "RAd6UCfIft04",
        "outputId": "ae9b3f26-611c-4d3d-a73e-6fed8c8261c9"
      },
      "execution_count": 4,
      "outputs": [
        {
          "output_type": "stream",
          "name": "stdout",
          "text": [
            "this will catch a error\n"
          ]
        }
      ]
    },
    {
      "cell_type": "code",
      "source": [
        "try :\n",
        "  import sudh\n",
        "except ImportError as e :\n",
        "  print(e)\n",
        "10/4"
      ],
      "metadata": {
        "colab": {
          "base_uri": "https://localhost:8080/"
        },
        "id": "7lB81ts7f-Yh",
        "outputId": "efac6347-b60b-4cd7-c568-6f19bd8d3069"
      },
      "execution_count": 7,
      "outputs": [
        {
          "output_type": "stream",
          "name": "stdout",
          "text": [
            "No module named 'sudh'\n"
          ]
        },
        {
          "output_type": "execute_result",
          "data": {
            "text/plain": [
              "2.5"
            ]
          },
          "metadata": {},
          "execution_count": 7
        }
      ]
    },
    {
      "cell_type": "code",
      "source": [
        "try :\n",
        "  d = {\"key\" : \"sudh\" ,1 : [2,3,4,5]}\n",
        "  print(d[\"key2\"])\n",
        "except KeyError as e :\n",
        "  print(e)"
      ],
      "metadata": {
        "colab": {
          "base_uri": "https://localhost:8080/"
        },
        "id": "CbcT6bmrgJ51",
        "outputId": "e4b309e3-9563-456b-d9eb-b133af3d4b41"
      },
      "execution_count": 8,
      "outputs": [
        {
          "output_type": "stream",
          "name": "stdout",
          "text": [
            "'key2'\n"
          ]
        }
      ]
    },
    {
      "cell_type": "code",
      "source": [
        "try :\n",
        "  \"sudh\".test()\n",
        "except AttributeError as e :\n",
        "  print(e)"
      ],
      "metadata": {
        "colab": {
          "base_uri": "https://localhost:8080/"
        },
        "id": "kC6ffq3ogp3R",
        "outputId": "0f8c7801-acc6-4f3f-9567-a3ce76f27fd2"
      },
      "execution_count": 9,
      "outputs": [
        {
          "output_type": "stream",
          "name": "stdout",
          "text": [
            "'str' object has no attribute 'test'\n"
          ]
        }
      ]
    },
    {
      "cell_type": "code",
      "source": [
        "try :\n",
        "  l = [2,3,4,5]\n",
        "  print(l[6])\n",
        "except IndexError as e :\n",
        "  print(e)\n"
      ],
      "metadata": {
        "colab": {
          "base_uri": "https://localhost:8080/"
        },
        "id": "w9uD8gWthC0O",
        "outputId": "b919c129-7304-4698-f5d4-a79748969d6c"
      },
      "execution_count": 10,
      "outputs": [
        {
          "output_type": "stream",
          "name": "stdout",
          "text": [
            "list index out of range\n"
          ]
        }
      ]
    },
    {
      "cell_type": "code",
      "source": [
        "try :\n",
        "  123 + \"sudh\"\n",
        "except TypeError as e :\n",
        "  print(e)"
      ],
      "metadata": {
        "colab": {
          "base_uri": "https://localhost:8080/"
        },
        "id": "mScMWW_xhQRQ",
        "outputId": "14be6c72-cc4c-4a89-b2c6-6bef2da40cfe"
      },
      "execution_count": 12,
      "outputs": [
        {
          "output_type": "stream",
          "name": "stdout",
          "text": [
            "unsupported operand type(s) for +: 'int' and 'str'\n"
          ]
        }
      ]
    },
    {
      "cell_type": "code",
      "source": [
        "try :\n",
        "  with open(\"test.txt\" , 'r')  as f:\n",
        "    test = f.read()\n",
        "except FileNotFoundError  as e :\n",
        "    print(e)"
      ],
      "metadata": {
        "colab": {
          "base_uri": "https://localhost:8080/"
        },
        "id": "CpHFuYkzhbAM",
        "outputId": "e00d1f4e-6bc7-4129-98ed-423fe9502642"
      },
      "execution_count": 14,
      "outputs": [
        {
          "output_type": "stream",
          "name": "stdout",
          "text": [
            "[Errno 2] No such file or directory: 'test.txt'\n"
          ]
        }
      ]
    },
    {
      "cell_type": "code",
      "source": [
        "try :\n",
        "  with open(\"test.txt\" , 'r')  as f:\n",
        "    test = f.read()\n",
        "\n",
        "except Exception as e :\n",
        "  print(e)\n",
        "except FileNotFoundError  as e :\n",
        "    print(\"test\" , e)"
      ],
      "metadata": {
        "colab": {
          "base_uri": "https://localhost:8080/"
        },
        "id": "UhIpIMcLiQ8j",
        "outputId": "15ec08ae-6fa8-4d70-ab5e-33f15cd34b9c"
      },
      "execution_count": 16,
      "outputs": [
        {
          "output_type": "stream",
          "name": "stdout",
          "text": [
            "[Errno 2] No such file or directory: 'test.txt'\n"
          ]
        }
      ]
    },
    {
      "cell_type": "code",
      "source": [
        "def test(file):\n",
        "  try :\n",
        "       with open(\"test.txt\" , 'r')  as f:\n",
        "         test = f.read()\n",
        "\n",
        "  except Exception as e :\n",
        "       print(e)\n",
        "  except FileNotFoundError  as e :\n",
        "    print(\"test\" , e)"
      ],
      "metadata": {
        "id": "8twkBy60iRo5"
      },
      "execution_count": 20,
      "outputs": []
    },
    {
      "cell_type": "code",
      "source": [],
      "metadata": {
        "id": "FvcPmGxzi6oN"
      },
      "execution_count": null,
      "outputs": []
    },
    {
      "cell_type": "code",
      "source": [],
      "metadata": {
        "id": "a0EeV6jAi6p9"
      },
      "execution_count": null,
      "outputs": []
    },
    {
      "cell_type": "code",
      "source": [],
      "metadata": {
        "id": "Mn8EVdAui69j"
      },
      "execution_count": null,
      "outputs": []
    },
    {
      "cell_type": "code",
      "source": [
        "dir(Exception)\n"
      ],
      "metadata": {
        "colab": {
          "base_uri": "https://localhost:8080/"
        },
        "id": "tGG7NJOXhsGI",
        "outputId": "15a56225-7940-4f99-ffce-4ce52e2a4ceb"
      },
      "execution_count": 17,
      "outputs": [
        {
          "output_type": "execute_result",
          "data": {
            "text/plain": [
              "['__cause__',\n",
              " '__class__',\n",
              " '__context__',\n",
              " '__delattr__',\n",
              " '__dict__',\n",
              " '__dir__',\n",
              " '__doc__',\n",
              " '__eq__',\n",
              " '__format__',\n",
              " '__ge__',\n",
              " '__getattribute__',\n",
              " '__gt__',\n",
              " '__hash__',\n",
              " '__init__',\n",
              " '__init_subclass__',\n",
              " '__le__',\n",
              " '__lt__',\n",
              " '__ne__',\n",
              " '__new__',\n",
              " '__reduce__',\n",
              " '__reduce_ex__',\n",
              " '__repr__',\n",
              " '__setattr__',\n",
              " '__setstate__',\n",
              " '__sizeof__',\n",
              " '__str__',\n",
              " '__subclasshook__',\n",
              " '__suppress_context__',\n",
              " '__traceback__',\n",
              " 'args',\n",
              " 'with_traceback']"
            ]
          },
          "metadata": {},
          "execution_count": 17
        }
      ]
    },
    {
      "cell_type": "code",
      "source": [],
      "metadata": {
        "id": "UnFNHTIEiKu4"
      },
      "execution_count": 17,
      "outputs": []
    }
  ]
}